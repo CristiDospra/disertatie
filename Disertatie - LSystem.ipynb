{
  "nbformat": 4,
  "nbformat_minor": 0,
  "metadata": {
    "accelerator": "GPU",
    "colab": {
      "name": "Dizertatie.ipynb",
      "provenance": [],
      "collapsed_sections": []
    },
    "kernelspec": {
      "display_name": "Python 3",
      "name": "python3"
    }
  },
  "cells": [
    {
      "cell_type": "markdown",
      "metadata": {
        "id": "e1_Y75QXJS6h"
      },
      "source": [
        "### Setup"
      ]
    },
    {
      "cell_type": "code",
      "metadata": {
        "colab": {
          "base_uri": "https://localhost:8080/"
        },
        "id": "YzTlj4YdCip_",
        "outputId": "0911cd4f-2672-49d8-c162-8fb2824cf6ca"
      },
      "source": [
        "!pip install git+https://github.com/tensorflow/docs"
      ],
      "execution_count": null,
      "outputs": [
        {
          "output_type": "stream",
          "text": [
            "Collecting git+https://github.com/tensorflow/docs\n",
            "  Cloning https://github.com/tensorflow/docs to /tmp/pip-req-build-f9hp3x3v\n",
            "  Running command git clone -q https://github.com/tensorflow/docs /tmp/pip-req-build-f9hp3x3v\n",
            "Requirement already satisfied: astor in /usr/local/lib/python3.7/dist-packages (from tensorflow-docs===0.0.0b993e77054dcafbd8b0da0a9d6f9ad7c10975901-) (0.8.1)\n",
            "Requirement already satisfied: absl-py in /usr/local/lib/python3.7/dist-packages (from tensorflow-docs===0.0.0b993e77054dcafbd8b0da0a9d6f9ad7c10975901-) (0.12.0)\n",
            "Requirement already satisfied: protobuf>=3.14 in /usr/local/lib/python3.7/dist-packages (from tensorflow-docs===0.0.0b993e77054dcafbd8b0da0a9d6f9ad7c10975901-) (3.17.3)\n",
            "Requirement already satisfied: pyyaml in /usr/local/lib/python3.7/dist-packages (from tensorflow-docs===0.0.0b993e77054dcafbd8b0da0a9d6f9ad7c10975901-) (3.13)\n",
            "Requirement already satisfied: six>=1.9 in /usr/local/lib/python3.7/dist-packages (from protobuf>=3.14->tensorflow-docs===0.0.0b993e77054dcafbd8b0da0a9d6f9ad7c10975901-) (1.15.0)\n"
          ],
          "name": "stdout"
        }
      ]
    },
    {
      "cell_type": "code",
      "metadata": {
        "colab": {
          "base_uri": "https://localhost:8080/"
        },
        "id": "v0Aj6KlzK1eb",
        "outputId": "7192b588-8fee-48fc-8c67-3a80e712feac"
      },
      "source": [
        "!unzip \"dataset_reshaped.zip\"\n",
        "!unzip \"dataset_skeleton.zip\"\n",
        "!unzip \"dataset_nodes.zip\"\n",
        "!unzip \"dataset_graphs.zip\"\n",
        "!unzip \"dataset_features.zip\""
      ],
      "execution_count": null,
      "outputs": [
        {
          "output_type": "stream",
          "text": [
            "unzip:  cannot find or open dataset_reshaped.zip, dataset_reshaped.zip.zip or dataset_reshaped.zip.ZIP.\n",
            "unzip:  cannot find or open dataset_skeleton.zip, dataset_skeleton.zip.zip or dataset_skeleton.zip.ZIP.\n",
            "unzip:  cannot find or open dataset_nodes.zip, dataset_nodes.zip.zip or dataset_nodes.zip.ZIP.\n",
            "unzip:  cannot find or open dataset_graphs.zip, dataset_graphs.zip.zip or dataset_graphs.zip.ZIP.\n",
            "Archive:  dataset_features.zip\n",
            "replace dataset_features/image_0.txt? [y]es, [n]o, [A]ll, [N]one, [r]ename: N\n"
          ],
          "name": "stdout"
        }
      ]
    },
    {
      "cell_type": "code",
      "metadata": {
        "id": "YfIk2es3hJEd"
      },
      "source": [
        "import os\n",
        "from os import walk\n",
        "import math\n",
        "import random\n",
        "import threading\n",
        "from collections import deque\n",
        "\n",
        "\n",
        "import PIL\n",
        "from PIL import Image\n",
        "import cv2 as cv\n",
        "from google.colab.patches import cv2_imshow\n",
        "from skimage import img_as_float, img_as_ubyte\n",
        "from skimage import io, color, morphology, transform, draw\n",
        "from skimage.transform import hough_circle, hough_circle_peaks\n",
        "from skimage.feature import canny\n",
        "from skimage.draw import circle_perimeter, line\n",
        "from skimage.measure import label\n",
        "\n",
        "import numpy as np\n",
        "import matplotlib.pyplot as plt\n",
        "import pandas as pd\n",
        "from sklearn.model_selection import train_test_split\n",
        "\n",
        "import tensorflow as tf\n",
        "from tensorflow.keras import layers\n",
        "\n",
        "from scipy.stats import norm"
      ],
      "execution_count": null,
      "outputs": []
    },
    {
      "cell_type": "code",
      "metadata": {
        "id": "8SLWjwFyTINN"
      },
      "source": [
        "#USEFUL CONSTANTS\n",
        "RESHAPED_FOLDER_PATH = \"/content/dataset_reshaped\"\n",
        "SKELETON_FOLDER_PATH = \"/content/dataset_skeleton\"\n",
        "NODES_FOLDER_PATH = \"/content/dataset_nodes\"\n",
        "GRAPHS_FOLDER_PATH = \"/content/dataset_graphs\"\n",
        "FEATURES_FOLDER_PATH = \"/content/dataset_features\"\n",
        "IMG_DIM = 512\n",
        "DEFAULT_RADIUS = 5\n",
        "NR_CLUSTERS = 2\n",
        "LOCK = threading.Lock()"
      ],
      "execution_count": null,
      "outputs": []
    },
    {
      "cell_type": "code",
      "metadata": {
        "id": "t_a7KLtPL_0Z"
      },
      "source": [
        "#UTILITY METHODS\n",
        "def display_image_compare(*images):\n",
        "  separator_vertical = np.full((IMG_DIM, 1), 255, dtype=np.uint8)\n",
        "  separator_horizontal = np.full((1, 3 * (IMG_DIM+1) ), 255, dtype=np.uint8)\n",
        "  to_display = []\n",
        "  for img in images:\n",
        "    if len(to_display) > 0:\n",
        "      to_display = cv.hconcat((to_display, img))\n",
        "    else:\n",
        "      to_display = img\n",
        "    to_display = cv.hconcat((to_display, separator_vertical))\n",
        "  to_display = cv.vconcat((to_display, separator_horizontal))\n",
        "  cv2_imshow(to_display)\n",
        "\n",
        "def encode_position(position):\n",
        "  (x, y) = position\n",
        "  return x * IMG_DIM + y\n",
        "\n",
        "def decode_position(code):\n",
        "  x = code // IMG_DIM\n",
        "  y = code % IMG_DIM\n",
        "\n",
        "  return (x, y)"
      ],
      "execution_count": null,
      "outputs": []
    },
    {
      "cell_type": "code",
      "metadata": {
        "colab": {
          "base_uri": "https://localhost:8080/",
          "height": 53
        },
        "id": "wx-zNbLqB4K8",
        "outputId": "9be21d55-2978-4d40-f63f-6558d99e0353"
      },
      "source": [
        "'''\n",
        "device_name = tf.test.gpu_device_name()\n",
        "if device_name != '/device:GPU:0':\n",
        "  raise SystemError('GPU device not found')\n",
        "print('Found GPU at: {}'.format(device_name))\n",
        "'''"
      ],
      "execution_count": null,
      "outputs": [
        {
          "output_type": "execute_result",
          "data": {
            "application/vnd.google.colaboratory.intrinsic+json": {
              "type": "string"
            },
            "text/plain": [
              "\"\\ndevice_name = tf.test.gpu_device_name()\\nif device_name != '/device:GPU:0':\\n  raise SystemError('GPU device not found')\\nprint('Found GPU at: {}'.format(device_name))\\n\""
            ]
          },
          "metadata": {
            "tags": []
          },
          "execution_count": 6
        }
      ]
    },
    {
      "cell_type": "code",
      "metadata": {
        "id": "IucDCmg2fflj"
      },
      "source": [
        "#return an image having only the pixels within the interval\n",
        "def extract_color(img_hsv, lower_color, upper_color):\n",
        "  return (cv.inRange(img_hsv, lower_color, upper_color))\n",
        "\n",
        "#transform image to skeleton roads\n",
        "def isolate_roads(pil_image):\n",
        "\n",
        "  #convert base image to HSV\n",
        "  img_bgr = cv.cvtColor(np.array(pil_image), cv.COLOR_RGB2BGR)\n",
        "  img_hsv = cv.cvtColor(img_bgr, cv.COLOR_BGR2HSV)\n",
        "\n",
        "  cv2_imshow(img_bgr)\n",
        "\n",
        "  #keep only the blue from the image (roads)\n",
        "  lower_blue = np.array([100,128,0])\n",
        "  upper_blue = np.array([180,255,255])\n",
        "  mask_blue = cv.bitwise_not(extract_color(img_hsv, lower_blue, upper_blue))\n",
        "  cv2_imshow(mask_blue)\n",
        "\n",
        "  #apply closing and erosion to keep a simple and smooth representation of roads\n",
        "  kernel = cv.getStructuringElement(cv.MORPH_RECT,(3,3))\n",
        "  closing = cv.morphologyEx(mask_blue, cv.MORPH_CLOSE, kernel) #closing removes noise \n",
        "  cv2_imshow(closing)\n",
        "  eroded = cv.erode(closing, kernel, iterations=2) #erosion makes the roads smoother and complete\n",
        "  cv2_imshow(eroded)\n",
        "\n",
        "  #skeletonize the image and apply binary dilation to prevent lines from being interrupted\n",
        "  aux = eroded.copy()\n",
        "  aux[aux[:]==0] = 1\n",
        "  aux[aux[:]==255] = 0\n",
        "  skel = morphology.skeletonize(aux)\n",
        "  cv2_imshow(img_as_ubyte(skel))\n",
        "  skel = morphology.binary_dilation(skel, morphology.selem.disk(1))\n",
        "  skel = img_as_ubyte(skel)\n",
        "  cv2_imshow(skel)\n",
        "\n",
        "  return skel"
      ],
      "execution_count": null,
      "outputs": []
    },
    {
      "cell_type": "code",
      "metadata": {
        "id": "-tJadoiR00PZ"
      },
      "source": [
        "#returns the angle of the ABC angle\n",
        "def get_angle(a, b, c):\n",
        "  ang = math.degrees(math.atan2(c[1]-b[1], c[0]-b[0]) - math.atan2(a[1]-b[1], a[0]-b[0]))\n",
        "  original = ang\n",
        "  ang = ang + 360 if ang < 0 else ang\n",
        "  return ((ang - 180 if ang >= 180 else ang), original)\n",
        "\n",
        "#check if C lies on AB\n",
        "def on_segment(A, B, C):\n",
        "  if C[0] <= max(A[0], B[0]) and C[0] >= min(A[0], B[0]) and C[1] <= max(A[1], B[1]) and C[1] >= min(A[1], B[1]):\n",
        "    return True\n",
        "  return False\n",
        "\n",
        "#Given 3 points, check their orientation -> 0 = colinear, 1 = clockwise, -1 = counter-clockwise\n",
        "def get_orientation(A, B, C):\n",
        "\n",
        "  val = ((B[1] - A[1]) * (C[0] - B[0])) - ((B[0] - A[0]) * (C[1] - B[1]))\n",
        "  if val == 0 : return 0\n",
        "  return 1 if val > 0 else -1\n",
        "\n",
        "#Check if segments intersect\n",
        "def is_segm_intersection(S1, S2):\n",
        "\n",
        "  (A1, B1) = S1\n",
        "  (A2, B2) = S2\n",
        "\n",
        "  if A1 == A2 or A1 == B2 or B1 == A2 or B1 == B2:\n",
        "    return False\n",
        "\n",
        "  #find all orientations\n",
        "  o1 = get_orientation(A1, B1, A2)\n",
        "  o2 = get_orientation(A1, B1, B2)\n",
        "  o3 = get_orientation(A2, B2, A1)\n",
        "  o4 = get_orientation(A2, B2, B1)\n",
        "\n",
        "  #general case\n",
        "  if o1 != o2 and o3 != o4:\n",
        "    #print(str(S1) + ' intersects ' + str(S2))\n",
        "    return True\n",
        "\n",
        "  #the end of a segment lays on the other, cases\n",
        "  #if o1 == 0 and on_segment(A1, B1, A2) : return True\n",
        "  #if o2 == 0 and on_segment(A1, B1, B2) : return True\n",
        "  #if o3 == 0 and on_segment(A2, B2, A1) : return True\n",
        "  #if o4 == 0 and on_segment(A2, B2, B1) : return True\n",
        "\n",
        "  return False\n",
        "\n",
        "def intersects_any(S, segments):\n",
        "\n",
        "  for s in segments[:-1]:\n",
        "    if is_segm_intersection(S, s) == True:\n",
        "      return True\n",
        "\n",
        "  return False\n",
        "\n",
        "\n",
        "#check if a pixel is outside of image\n",
        "def is_out_of_bounds(A, n):\n",
        "  (x, y) = A\n",
        "  return x < 0 or y < 0 or x >= n or y >= n \n",
        "\n",
        "#check if a pixel is on the edge of the image\n",
        "def is_marginal(A, n):\n",
        "  (x, y) = A\n",
        "  return x == 0 or y == 0 or x == (n - 1) or y == (n - 1)\n",
        "\n",
        "#check if pixels A and B are neighbours on 8 directions\n",
        "def is_neighbour(A, B):\n",
        "  (xA, yA) = A\n",
        "  (xB, yB) = B\n",
        "  return (abs(xA - xB) <= 1) and (abs(yA - yB) <= 1)\n",
        "\n",
        "#compute the manhattan distance between two pixels\n",
        "def dist(A, B):\n",
        "  (xA, yA) = A\n",
        "  (xB, yB) = B\n",
        "  return (abs(xA - xB) + abs(yA - yB))\n",
        "\n",
        "#get the neighbours of a given pixel (8 directions)\n",
        "def get_neighbours(image, A):\n",
        "    \n",
        "  dir = [(-1, -1), (-1, 0), (-1, 1), (0, -1), (0, 1), (1, -1), (1, 0), (1, 1)]\n",
        "  \n",
        "  neighbours = []\n",
        "  n = len(image)\n",
        "\n",
        "  (x, y) = A\n",
        "  for (ox, oy) in dir:\n",
        "    xx = x + ox\n",
        "    yy = y + oy\n",
        "    if (is_out_of_bounds((xx, yy), n) == False) and (image[xx, yy] == image[x, y]):\n",
        "      neighbours.append((xx, yy))\n",
        "\n",
        "  return neighbours\n",
        "\n",
        "#find the intersections of roads\n",
        "def get_intersections(image, circle):\n",
        "\n",
        "  #given a circle by the points of its border, check how many roads does this circle intersect\n",
        "\n",
        "  n = len(image)\n",
        "  base = np.zeros((n, n), dtype=int)\n",
        "  \n",
        "  intersections = []\n",
        "\n",
        "  #take each point from the circle border\n",
        "  for point in circle:\n",
        "    (x, y) = point\n",
        "    #we dont mind the out of bounds points\n",
        "    if is_out_of_bounds(point, n):\n",
        "      continue\n",
        "\n",
        "    #if the circle intersects a road (white)\n",
        "    if image[x, y] == 255:      \n",
        "      base[x, y] = 1\n",
        "  \n",
        "  labels, nr_inter = label(base, background=0, return_num=True, connectivity=2)\n",
        "\n",
        "  for i in range (1, nr_inter + 1):\n",
        "    intersections.append(np.asarray(np.where(labels == i)).T.tolist())\n",
        "\n",
        "  return intersections\n",
        "\n",
        "#check if two pixels are too close to eachother\n",
        "def too_close(existing_points, point):\n",
        "\n",
        "  for p in existing_points:\n",
        "    if dist(p, point) < 20:\n",
        "      return True\n",
        "  \n",
        "  return False\n",
        "\n",
        "#1 - if it's the end of a road, we mark it with a node\n",
        "def is_node_end(image, x, y, radius):\n",
        "\n",
        "  circle = cv.ellipse2Poly((x, y), (radius, radius), 0, 0, 360, 1)\n",
        "  intersections = get_intersections(image, circle)\n",
        "\n",
        "  if len(intersections) == 1:\n",
        "    return (True, 'End', True)\n",
        "  return (False, \"False\", False)\n",
        "\n",
        "#2 - if its a intersection of 3 or more roads, we mark it with a node\n",
        "def is_node_intersection(image, x, y, radius):\n",
        "\n",
        "  circle = cv.ellipse2Poly((x, y), (radius, radius), 0, 0, 360, 1)\n",
        "  intersections = get_intersections(image, circle)\n",
        "  \n",
        "  if len(intersections) > 2:\n",
        "    return (True, \"Intersection\", len(intersections))\n",
        "  return (False, \"False\", False)\n",
        "\n",
        "#3 - if its a turn in the road, we mark it with a node\n",
        "def is_node_angle(image, x, y, radius):\n",
        "\n",
        "  circle = cv.ellipse2Poly((x, y), (radius, radius), 0, 0, 360, 1)\n",
        "  intersections = get_intersections(image, circle)\n",
        "\n",
        "  if len(intersections) == 2:\n",
        "    (angle, original_angle) = get_angle(intersections[0][0], (x, y), intersections[1][0])\n",
        "    if angle > 20 and angle <= 160:\n",
        "      return (True, \"Angle\", round(original_angle))\n",
        "    else:\n",
        "      return (False, \"False\", False)\n",
        "  \n",
        "  return (False, \"False\", False)\n"
      ],
      "execution_count": null,
      "outputs": []
    },
    {
      "cell_type": "code",
      "metadata": {
        "id": "JdrqisWWfWNF"
      },
      "source": [
        "#given a skeleton image of the road networks, return an image containing the nodes of the future graph\n",
        "def find_nodes(skeleton_pil, radius=DEFAULT_RADIUS):\n",
        "\n",
        "  node_types = {}\n",
        "  node_types['Angle'] = []\n",
        "  node_types['End'] = []\n",
        "  node_types['Intersection'] = []\n",
        "\n",
        "  colors = {}\n",
        "  colors['End'] = [255, 0, 0] #Blue\n",
        "  colors['Intersection'] = [0, 255, 0] #Green\n",
        "  colors['Angle'] = [255, 0, 255] #Magenta\n",
        "\n",
        "  skeleton = np.array(skeleton_pil)\n",
        "  skeleton_rgb = cv.cvtColor(skeleton, cv.COLOR_GRAY2RGB)\n",
        "\n",
        "  n = len(skeleton)\n",
        "\n",
        "  #pixels that will be nodes\n",
        "  chosen_points = []\n",
        "\n",
        "  #we check only the road pixels\n",
        "  road_points = np.asarray(np.where(skeleton == 255)).T.tolist()\n",
        "\n",
        "  inter_pos = []\n",
        "  end_pos = []\n",
        "  angle_pos = []\n",
        "\n",
        "  #first we check for intersections\n",
        "  for (i, j) in road_points:\n",
        "    if too_close(chosen_points, (i, j)) == True:\n",
        "      continue\n",
        "    (is_node, key, value) = is_node_intersection(skeleton, i, j, radius)\n",
        "    if is_node == True:\n",
        "      inter_pos.append((encode_position((i, j)), value))          \n",
        "  \n",
        "  inter_pos.sort(key=lambda tup: -tup[1])\n",
        "\n",
        "  aux = []\n",
        "  key = 'Intersection'\n",
        "  for node, value in inter_pos:\n",
        "    (i, j) = decode_position(node)\n",
        "    if too_close(chosen_points, (i, j)) == False:\n",
        "      chosen_points.append((i, j))\n",
        "      aux.append(value)\n",
        "      skeleton_rgb = cv.circle(skeleton_rgb, (j, i), radius, colors[key], thickness=-1)\n",
        "  inter_pos = aux\n",
        "\n",
        "  #then get the road ends\n",
        "  for (i, j) in road_points:\n",
        "    if too_close(chosen_points, (i, j)) == True:\n",
        "      continue\n",
        "    (is_node, key, value) = is_node_end(skeleton, i, j, radius)\n",
        "    if is_node == True:\n",
        "      chosen_points.append((i, j))\n",
        "      end_pos.append(value)\n",
        "      skeleton_rgb = cv.circle(skeleton_rgb, (j, i), radius, colors[key], thickness=-1)\n",
        "\n",
        "  #finally get the turns\n",
        "  for (i, j) in road_points:\n",
        "    if too_close(chosen_points, (i, j)) == True:\n",
        "      continue\n",
        "    (is_node, key, value) = is_node_angle(skeleton, i, j, 20)\n",
        "    if is_node == True:\n",
        "      chosen_points.append((i, j))\n",
        "      angle_pos.append(value)\n",
        "      skeleton_rgb = cv.circle(skeleton_rgb, (j, i), radius, colors[key], thickness=-1)\n",
        "\n",
        "\n",
        "  node_types['End'] = end_pos\n",
        "  node_types['Intersection'] = inter_pos\n",
        "  node_types['Angle'] = angle_pos\n",
        "\n",
        "  cv2_imshow(skeleton_rgb)\n",
        "  return chosen_points, node_types, skeleton_rgb"
      ],
      "execution_count": null,
      "outputs": []
    },
    {
      "cell_type": "code",
      "metadata": {
        "id": "3M0EKsq_dKa4"
      },
      "source": [
        ""
      ],
      "execution_count": null,
      "outputs": []
    },
    {
      "cell_type": "code",
      "metadata": {
        "id": "JX41Hj8GvDju"
      },
      "source": [
        "#given a skeleton image and nodes (pixels), draw edges between nodes\n",
        "def create_edges(image, nodes, radius=DEFAULT_RADIUS):\n",
        "\n",
        "  edges = set()\n",
        "  n = len(image)\n",
        "\n",
        "  #compute the influence zone for each node\n",
        "  base = np.zeros((n, n), dtype=int)\n",
        "  for node in nodes:\n",
        "    val = encode_position(node)\n",
        "    (x, y) = node\n",
        "    for i in range(-radius, radius + 1):\n",
        "      for j in range(-radius, radius + 1):\n",
        "        if abs(i) + abs(j) <= radius and is_out_of_bounds((x + i, y + j), n) == False:\n",
        "          base[x + i, y + j] = val\n",
        "    #print((x, y), \" -> \", base[x, y])\n",
        "\n",
        "\n",
        "  \n",
        "  #apply BFS from each node\n",
        "  dir = [(-1, -1), (-1, 0), (-1, 1), (0, -1), (0, 1), (1, -1), (1, 0), (1, 1)]\n",
        "  for node in nodes:\n",
        "    nodex, nodey = node\n",
        "    visited = {}\n",
        "    q = [node]\n",
        "    while len(q) > 0:\n",
        "      (x, y) = q.pop(0)\n",
        "      for (ox, oy) in dir:\n",
        "        xx = x + ox\n",
        "        yy = y + oy\n",
        "\n",
        "        #only walk on white pixels (road)\n",
        "        if is_out_of_bounds((xx, yy), n) or visited.get((xx, yy)) == True or image[xx, yy] == 0:\n",
        "          continue\n",
        "\n",
        "        visited[(xx, yy)] = True     \n",
        "        #if we got to a pixel which is in the influence area of another node, draw edge\n",
        "        if base[xx, yy] != 0 and base[xx, yy] != base[nodex, nodey]:\n",
        "          if (base[xx, yy] < base[nodex, nodey]):\n",
        "            edges.add((base[xx, yy], base[nodex, nodey]))\n",
        "          else:\n",
        "            edges.add((base[nodex, nodey], base[xx, yy]))\n",
        "        else:\n",
        "          q.append((xx, yy))\n",
        "   \n",
        "  return edges\n",
        "\n",
        "#create graph from skeleton image and nodes image\n",
        "def create_graph(skele_image, node_image=None, nodes=None, radius=DEFAULT_RADIUS):\n",
        "\n",
        "  if node_image != None and nodes == None:\n",
        "    #take only the circles from the images\n",
        "    ths_image = extract_color(node_image, np.array([0, 255, 0]), np.array([0, 255, 0]))\n",
        "\n",
        "    grayscale = color.rgb2gray(ths_image)\n",
        "    image =  img_as_ubyte(grayscale)\n",
        "    edges = canny(image, sigma=3, low_threshold=10, high_threshold=50)\n",
        "    hough_radii = np.array([radius-1])\n",
        "    hough_res = hough_circle(edges, hough_radii, full_output=True)\n",
        "    accums, cx, cy, radii = hough_circle_peaks(hough_res, hough_radii, min_xdistance=2*radius, min_ydistance=2*radius)\n",
        "\n",
        "    image = color.gray2rgb(image)\n",
        "  \n",
        "    n = len(image)\n",
        "    nodes = []\n",
        "    #get the centers of the circles -> these will be nodes\n",
        "    for center_y, center_x, rad in zip(cy, cx, radii):\n",
        "      #circy, circx = circle_perimeter(center_y, center_x, radius, shape=image.shape)\n",
        "      sub = min(rad, center_y, center_x)\n",
        "      center_y = center_y - sub\n",
        "      center_x = center_x - sub\n",
        "      nodes.append((center_y, center_x))\n",
        "\n",
        "  edges = create_edges(skele_image, nodes, 2 * radius - 1)\n",
        "  return nodes, edges  \n",
        "\n",
        "\n",
        "#create a text file for a given image containing the features\n",
        "def create_features_output(img_name, node_types, edges):\n",
        "\n",
        "  aux = []\n",
        "  for edge in edges:\n",
        "    A = edge[0]\n",
        "    B = edge[1]\n",
        "    aux.append(dist(decode_position(A), decode_position(B)))\n",
        "  node_types['Dist'] = aux\n",
        "\n",
        "  with open('/content/dataset_features/' + img_name + \".txt\", 'w') as f:\n",
        "    for key in node_types.keys():\n",
        "      for val in node_types[key]:\n",
        "        f.write(key + \"_\" + str(val) + \"\\n\")\n",
        "  f.close()\n",
        "\n",
        "#create a text file for a given image containing the edges\n",
        "def create_graph_output(img_name, edges):\n",
        "\n",
        "  with open('/content/dataset_graphs/' + img_name + \".txt\", 'w') as f:\n",
        "    f.write(str(len(edges)) + \"\\n\")\n",
        "    for edge in edges:\n",
        "      A, B = edge\n",
        "      f.write(str(A) + \",\" + str(B) + \"\\n\")\n",
        "  f.close()\n",
        "\n",
        "#create image from a list of edges\n",
        "def create_image_from_graph(edges):\n",
        "  img = np.zeros((IMG_DIM, IMG_DIM), dtype=np.uint8)\n",
        "  for edge in edges:\n",
        "    A, B = edge\n",
        "    (xA, yA) = decode_position(A) \n",
        "    (xB, yB) = decode_position(B)\n",
        "    rr, cc = line(xA, yA, xB, yB)\n",
        "    img[rr, cc] = 255\n",
        "\n",
        "  '''\n",
        "  img = np.stack((img,)*3, axis=-1)\n",
        "  for edge in edges:\n",
        "    A, B = edge\n",
        "    (xA, yA) = decode_position(A) \n",
        "    (xB, yB) = decode_position(B)\n",
        "    img = cv.circle(img, (yA, xA), 5, [0, 255, 0], thickness=-1)\n",
        "    img = cv.circle(img, (yB, xB), 5, [0, 255, 0], thickness=-1)\n",
        "  '''\n",
        "  \n",
        "  return img"
      ],
      "execution_count": null,
      "outputs": []
    },
    {
      "cell_type": "code",
      "metadata": {
        "id": "8T7lbhR6R1gP"
      },
      "source": [
        "#return an array of images from the given folder path\n",
        "def read_images(folder_path):\n",
        "    \n",
        "    (_, _, img_names) = next(walk(folder_path))\n",
        "    img_names = np.sort(img_names)\n",
        "    images = []\n",
        "    print(len(img_names))\n",
        "    \n",
        "    for img_name in img_names:\n",
        "      with Image.open(folder_path + \"/\" + img_name) as im:\n",
        "         images.append(np.array(im))\n",
        "         #io.imsave(\"/content/dataset_skeleton/\" + img_name, isolate_roads(im)) -> uncomment to get roads from normal image\n",
        "         #io.imsave(\"/content/dataset_nodes/\" + img_name, find_nodes(im)) -> uncomment to get the nodes from a skeleton image \n",
        "         \n",
        "\n",
        "    return images\n",
        "\n",
        "#return a list of graphs parsed from a given file.\n",
        "#each graph is represented through a list of edges\n",
        "def read_graphs(folder_path):\n",
        "\n",
        "  (_, _, img_names) = next(walk(folder_path))\n",
        "  img_names = np.sort(img_names)\n",
        "  graphs = []\n",
        "\n",
        "  for img_name in img_names:\n",
        "    graph = []\n",
        "    with open(folder_path + \"/\" + img_name, \"r\") as f:\n",
        "      nr_edges = int(f.readline().strip())\n",
        "      for line in f:\n",
        "        nodes = line.split(\",\")\n",
        "        A = int(nodes[0].strip())\n",
        "        B = int(nodes[1].strip())\n",
        "        graph.append([A, B])\n",
        "      graphs.append(np.array(graph))\n",
        "\n",
        "  return np.array(graphs)"
      ],
      "execution_count": null,
      "outputs": []
    },
    {
      "cell_type": "code",
      "metadata": {
        "id": "a4fYMGxGhrna"
      },
      "source": [
        "#using the skeleton images, create features files, graph files and images with nodes added\n",
        "def generate_graphs_and_features(folder_path, X_skele):\n",
        "\n",
        "  (_, _, img_names) = next(walk(folder_path))\n",
        "  img_names = np.sort(img_names)\n",
        "\n",
        "  n = len(img_names)\n",
        "  for i in range(n):\n",
        "    img_name = img_names[i].replace(\".png\", \"\")\n",
        "    nodes, node_types, nodes_image = find_nodes(X_skele[i])\n",
        "    nodes, edges = create_graph(X_skele[i], nodes=nodes)\n",
        "    create_graph_output(img_name, edges)\n",
        "    create_features_output(img_name, node_types, edges)\n",
        "    io.imsave(\"/content/dataset_nodes/\" + img_name + \".png\", nodes_image)\n",
        "\n",
        "#generate graph files from images with nodes\n",
        "def generate_graph_files(folder_path, nodes):\n",
        "\n",
        "  (_, _, img_names) = next(walk(folder_path))\n",
        "  img_names = np.sort(img_names)\n",
        "\n",
        "  n = len(img_names)\n",
        "  for i in range(n):\n",
        "    create_graph_output(img_names[i].replace(\".png\", \"\"), X_skele[i], nodes)\n",
        "\n",
        "\n",
        "def generate_feature_files(folder_path, node_types):\n",
        "\n",
        "  (_, _, img_names) = next(walk(folder_path))\n",
        "  img_names = np.sort(img_names)\n",
        "\n",
        "  graphs = read_graphs(GRAPHS_FOLDER_PATH)\n",
        "\n",
        "  n = len(img_names)\n",
        "  for i in range(n):\n",
        "    print(img_names[i])\n",
        "    create_image_features(img_names[i].replace(\".png\", \"\"), find_nodes(X_skele[i]), graphs[i])"
      ],
      "execution_count": null,
      "outputs": []
    },
    {
      "cell_type": "code",
      "metadata": {
        "id": "e9NAzbupQWsI"
      },
      "source": [
        ""
      ],
      "execution_count": null,
      "outputs": []
    },
    {
      "cell_type": "code",
      "metadata": {
        "id": "90pAFGBUdaid"
      },
      "source": [
        "#X_nodes = read_images(NODES_FOLDER_PATH)\n",
        "#X_skele = read_images(SKELETON_FOLDER_PATH)\n",
        "#generate_graphs_and_features(SKELETON_FOLDER_PATH, X_skele)"
      ],
      "execution_count": null,
      "outputs": []
    },
    {
      "cell_type": "code",
      "metadata": {
        "id": "T6VJicp30Iyd"
      },
      "source": [
        ""
      ],
      "execution_count": null,
      "outputs": []
    },
    {
      "cell_type": "code",
      "metadata": {
        "id": "AQWHshvoeTLC"
      },
      "source": [
        "#!zip -r '/content/dataset_skeleton.zip' '/content/dataset_skeleton'\n",
        "#!zip -r '/content/dataset_nodes.zip' '/content/dataset_nodes'\n",
        "#!zip -r '/content/dataset_graphs.zip' '/content/dataset_graphs'\n",
        "#!zip -r '/content/dataset_features.zip' '/content/dataset_features'"
      ],
      "execution_count": null,
      "outputs": []
    },
    {
      "cell_type": "code",
      "metadata": {
        "id": "I2fjf1Q1sYj4"
      },
      "source": [
        "#from google.colab import files\n",
        "#files.download('/content/dataset_features.zip') "
      ],
      "execution_count": null,
      "outputs": []
    },
    {
      "cell_type": "code",
      "metadata": {
        "id": "CjdmHn5w00SP"
      },
      "source": [
        ""
      ],
      "execution_count": null,
      "outputs": []
    },
    {
      "cell_type": "code",
      "metadata": {
        "id": "0XjK3XmDm2qh"
      },
      "source": [
        "#extract relevant data from feature files as a pandas dataframe\n",
        "def parse_features_files(folder_path):\n",
        "\n",
        "  (_, _, img_names) = next(walk(folder_path))\n",
        "  img_names = np.sort(img_names)\n",
        "\n",
        "  most_intersections = 0\n",
        "\n",
        "  data_frame = {\n",
        "    'name': [],\n",
        "    'nr_ends': [],\n",
        "    'nr_angles': [],\n",
        "    'mean_angle': [],\n",
        "    'min_angle': [],\n",
        "    'max_angle': [],\n",
        "    'nr_dists': [],\n",
        "    'sum_dist': [],\n",
        "    'avg_dist': [],\n",
        "    'min_dist': [],\n",
        "    'max_dist': [],\n",
        "    'nr_inter': [],\n",
        "    'inter_3': [],\n",
        "    'inter_4': [],\n",
        "    'inter_5': [],\n",
        "    'inter_6': [],\n",
        "    'inter_7': []\n",
        "  }\n",
        "  data_frame = pd.DataFrame(data_frame)\n",
        "\n",
        "  for img_name in img_names:\n",
        "\n",
        "    nr_ends = 0\n",
        "    \n",
        "    nr_angles = 0\n",
        "    mean_angle = 0\n",
        "    min_angle = 360\n",
        "    max_angle = 0\n",
        "\n",
        "    nr_dists = 0\n",
        "    sum_dist = 0\n",
        "    avg_dist = 0\n",
        "    min_dist = math.inf\n",
        "    max_dist = -math.inf\n",
        "\n",
        "    nr_inter = 0\n",
        "    inter_types = np.zeros(10)\n",
        "\n",
        "    with open(folder_path + \"/\" + img_name, \"r\") as f:\n",
        "      for line in f:\n",
        "        split = line.strip().split('_')\n",
        "\n",
        "        if split[0] == 'Angle':\n",
        "          angle = int(split[1])\n",
        "          if angle > 0:\n",
        "            angle = 180 - angle\n",
        "          else:\n",
        "            angle = 180 + angle\n",
        "\n",
        "          nr_angles += 1\n",
        "          mean_angle += angle\n",
        "          min_angle = min(min_angle, angle)\n",
        "          max_angle = max(max_angle, angle)\n",
        "\n",
        "        elif split[0] == 'End':\n",
        "          nr_ends += 1\n",
        "\n",
        "        elif split[0] == 'Intersection':\n",
        "          inter = int(split[1])\n",
        "          nr_inter += 1\n",
        "          inter_types[inter] += 1\n",
        "\n",
        "        elif split[0] == 'Dist':\n",
        "          dist = int(split[1])\n",
        "          nr_dists += 1\n",
        "          sum_dist += dist\n",
        "          min_dist = min(min_dist, dist)\n",
        "          max_dist = max(max_dist, dist)\n",
        "\n",
        "        else:\n",
        "          print('Warning: unknown feature type in ' + img_name)\n",
        "\n",
        "      if nr_angles != 0:\n",
        "        mean_angle = round(mean_angle / nr_angles)\n",
        "      else:\n",
        "        min_angle = 0\n",
        "        max_angle = 0\n",
        "\n",
        "      if nr_dists != 0:\n",
        "        avg_dist = round(sum_dist / nr_dists)\n",
        "      else:\n",
        "        min_dist = 0\n",
        "        max_dist = 0\n",
        "\n",
        "      new_row = {\n",
        "        'name': img_name,\n",
        "        'nr_ends': nr_ends,\n",
        "        'nr_angles': nr_angles,\n",
        "        'mean_angle': mean_angle,\n",
        "        'min_angle': min_angle,\n",
        "        'max_angle': max_angle,\n",
        "        'nr_dists': nr_dists,\n",
        "        'sum_dist': sum_dist,\n",
        "        'avg_dist': avg_dist,\n",
        "        'min_dist': min_dist,\n",
        "        'max_dist': max_dist,\n",
        "        'nr_inter': nr_inter,\n",
        "        'inter_3': inter_types[3],\n",
        "        'inter_4': inter_types[4],\n",
        "        'inter_5': inter_types[5],\n",
        "        'inter_6': inter_types[6],\n",
        "        'inter_7': inter_types[7]\n",
        "    }\n",
        "    data_frame = data_frame.append(new_row, ignore_index=True)\n",
        "\n",
        "  return data_frame"
      ],
      "execution_count": null,
      "outputs": []
    },
    {
      "cell_type": "code",
      "metadata": {
        "id": "OGjDgdQR0B36"
      },
      "source": [
        "df = parse_features_files(FEATURES_FOLDER_PATH)"
      ],
      "execution_count": null,
      "outputs": []
    },
    {
      "cell_type": "code",
      "metadata": {
        "colab": {
          "base_uri": "https://localhost:8080/",
          "height": 281
        },
        "id": "sql3f8xSkCoC",
        "outputId": "b890abe9-a951-4b54-a154-3634635e16fa"
      },
      "source": [
        "mean_angles = df['mean_angle'].to_numpy()\n",
        "_= plt.hist(mean_angles, bins='auto', density=True)\n",
        "plt.title('Average turn angle value for each image')\n",
        "(mean_angle, std_angle) = round(np.mean(mean_angles)), round(np.std(mean_angles))\n",
        "xmin, xmax = plt.xlim()\n",
        "x = np.linspace(xmin, xmax, 100)\n",
        "plt.plot(x, norm.pdf(x, mean_angle, std_angle))\n",
        "plt.show()"
      ],
      "execution_count": null,
      "outputs": [
        {
          "output_type": "display_data",
          "data": {
            "image/png": "[encoded data removed]",
            "text/plain": [
              "<Figure size 432x288 with 1 Axes>"
            ]
          },
          "metadata": {
            "tags": [],
            "needs_background": "light"
          }
        }
      ]
    },
    {
      "cell_type": "code",
      "metadata": {
        "colab": {
          "base_uri": "https://localhost:8080/",
          "height": 281
        },
        "id": "qQa0qPvxkPLE",
        "outputId": "6c54838a-cbd3-425d-9b9e-d40d9ab514d3"
      },
      "source": [
        "mean_dists = df['avg_dist'].to_numpy()\n",
        "_ = plt.hist(mean_dists, bins='auto', density=True)\n",
        "plt.title('Average road length for each image')\n",
        "(mean_dist, std_dist) = round(np.mean(mean_dists)), round(np.std(mean_dists))\n",
        "xmin, xmax = plt.xlim()\n",
        "x = np.linspace(xmin, xmax, 100)\n",
        "plt.plot(x, norm.pdf(x, mean_dist, std_dist))\n",
        "plt.show()"
      ],
      "execution_count": null,
      "outputs": [
        {
          "output_type": "display_data",
          "data": {
            "image/png": "[encoded data removed]",
            "text/plain": [
              "<Figure size 432x288 with 1 Axes>"
            ]
          },
          "metadata": {
            "tags": [],
            "needs_background": "light"
          }
        }
      ]
    },
    {
      "cell_type": "code",
      "metadata": {
        "colab": {
          "base_uri": "https://localhost:8080/",
          "height": 370
        },
        "id": "RP6WJhohRyQp",
        "outputId": "1f3ec9f6-5b29-4941-97a1-ec092aaaeff9"
      },
      "source": [
        "inter_values = np.array([])\n",
        "for i in range(3, 8):\n",
        "  val = int(sum(df['inter_' + str(i)].to_numpy()))\n",
        "  print(str(i) + ' branches: ' + str(val))\n",
        "  inter_values = np.concatenate((inter_values, np.full(val, i, np.int)))\n",
        "\n",
        "_ = plt.hist(inter_values, density=True)\n",
        "plt.title('Normed number of intersections by number of branches')\n",
        "plt.show()"
      ],
      "execution_count": null,
      "outputs": [
        {
          "output_type": "stream",
          "text": [
            "3 branches: 17727\n",
            "4 branches: 6804\n",
            "5 branches: 472\n",
            "6 branches: 77\n",
            "7 branches: 20\n"
          ],
          "name": "stdout"
        },
        {
          "output_type": "display_data",
          "data": {
            "image/png": "[encoded data removed]",
            "text/plain": [
              "<Figure size 432x288 with 1 Axes>"
            ]
          },
          "metadata": {
            "tags": [],
            "needs_background": "light"
          }
        }
      ]
    },
    {
      "cell_type": "code",
      "metadata": {
        "colab": {
          "base_uri": "https://localhost:8080/",
          "height": 281
        },
        "id": "LP9JBp5jxS8q",
        "outputId": "61f8a314-9ecc-44f8-a4f6-1b24600e0b4b"
      },
      "source": [
        "nr_ends = df['nr_ends'].to_numpy()\n",
        "_ = plt.hist(nr_ends, bins='auto', density=False)\n",
        "plt.title('Total number of road ends over images')\n",
        "plt.show()"
      ],
      "execution_count": null,
      "outputs": [
        {
          "output_type": "display_data",
          "data": {
            "image/png": "[encoded data removed]",
            "text/plain": [
              "<Figure size 432x288 with 1 Axes>"
            ]
          },
          "metadata": {
            "tags": [],
            "needs_background": "light"
          }
        }
      ]
    },
    {
      "cell_type": "code",
      "metadata": {
        "id": "9Ujon8cST5OS"
      },
      "source": [
        "#Apply KMeans to cluster the images\n",
        "from sklearn.cluster import KMeans\n",
        "from sklearn.preprocessing import StandardScaler\n",
        "\n",
        "features = df.drop(columns=['name'])\n",
        "scaler = StandardScaler()\n",
        "scaled_features = scaler.fit_transform(features)\n",
        "\n",
        "kmeans = KMeans(n_clusters=NR_CLUSTERS, max_iter=500)\n",
        "kmeans.fit(scaled_features)\n",
        "\n",
        "df['label'] = kmeans.labels_\n",
        "grouped = df.groupby('label')"
      ],
      "execution_count": null,
      "outputs": []
    },
    {
      "cell_type": "code",
      "metadata": {
        "colab": {
          "base_uri": "https://localhost:8080/"
        },
        "id": "UwHkwkxWYqEP",
        "outputId": "24dbb13a-92c6-4d9d-a418-e4638d38eaf9"
      },
      "source": [
        "for i in range(NR_CLUSTERS):\n",
        "  print(grouped.get_group(i))\n",
        "  print('======================================================================================')"
      ],
      "execution_count": null,
      "outputs": [
        {
          "output_type": "stream",
          "text": [
            "                name  nr_ends  nr_angles  ...  inter_6  inter_7  label\n",
            "7     image_1003.txt      9.0       11.0  ...      0.0      0.0      0\n",
            "9     image_1005.txt      6.0       19.0  ...      0.0      0.0      0\n",
            "10    image_1006.txt      6.0       10.0  ...      0.0      0.0      0\n",
            "12    image_1008.txt      1.0       12.0  ...      0.0      0.0      0\n",
            "13    image_1009.txt     14.0       17.0  ...      0.0      0.0      0\n",
            "...              ...      ...        ...  ...      ...      ...    ...\n",
            "1663   image_992.txt      7.0       12.0  ...      0.0      0.0      0\n",
            "1665   image_994.txt     10.0       20.0  ...      0.0      0.0      0\n",
            "1666   image_995.txt      9.0       18.0  ...      0.0      0.0      0\n",
            "1667   image_996.txt     10.0       18.0  ...      0.0      0.0      0\n",
            "1668   image_997.txt     10.0       10.0  ...      0.0      0.0      0\n",
            "\n",
            "[842 rows x 18 columns]\n",
            "======================================================================================\n",
            "                name  nr_ends  nr_angles  ...  inter_6  inter_7  label\n",
            "0        image_0.txt     14.0       24.0  ...      1.0      0.0      1\n",
            "1        image_1.txt     23.0       35.0  ...      0.0      0.0      1\n",
            "2       image_10.txt     13.0       29.0  ...      0.0      0.0      1\n",
            "3      image_100.txt     14.0       30.0  ...      0.0      0.0      1\n",
            "4     image_1000.txt     21.0       56.0  ...      0.0      0.0      1\n",
            "...              ...      ...        ...  ...      ...      ...    ...\n",
            "1660    image_99.txt     14.0       34.0  ...      0.0      0.0      1\n",
            "1661   image_990.txt     13.0       23.0  ...      0.0      0.0      1\n",
            "1664   image_993.txt     12.0       42.0  ...      0.0      0.0      1\n",
            "1669   image_998.txt     19.0       19.0  ...      0.0      0.0      1\n",
            "1670   image_999.txt     21.0       44.0  ...      0.0      0.0      1\n",
            "\n",
            "[829 rows x 18 columns]\n",
            "======================================================================================\n"
          ],
          "name": "stdout"
        }
      ]
    },
    {
      "cell_type": "code",
      "metadata": {
        "id": "ObmxL5VsrIHi"
      },
      "source": [
        "from scipy.stats import truncnorm\n",
        "from random import choices\n",
        "\n",
        "#normal distribution in a given interval\n",
        "def get_truncated_normal(mean=0, sd=1, low=0, upp=10):\n",
        "    return truncnorm(\n",
        "        (low - mean) / sd, (upp - mean) / sd, loc=mean, scale=sd)"
      ],
      "execution_count": null,
      "outputs": []
    },
    {
      "cell_type": "code",
      "metadata": {
        "id": "6tpSoMorXdM8"
      },
      "source": [
        "#create a frequency array from a list of values \n",
        "def create_frequency(values):\n",
        "\n",
        "  cnt = len(values)\n",
        "  freq = np.zeros(360)\n",
        "  for val in values:\n",
        "    val = round(val)\n",
        "    freq[val] += 1\n",
        "\n",
        "  for val in range(360):\n",
        "   freq[val] = freq[val] / cnt\n",
        "\n",
        "  return freq"
      ],
      "execution_count": null,
      "outputs": []
    },
    {
      "cell_type": "code",
      "metadata": {
        "id": "O4DTjKCDmok3"
      },
      "source": [
        "#generate new elements relevant to the given cluster\n",
        "def generate_samples_from_cluster(cluster, last_element):\n",
        "\n",
        "  mean_min_dist = np.min(cluster['min_dist'].to_numpy())\n",
        "  mean_max_dist = np.max(cluster['max_dist'].to_numpy())\n",
        "  (mean_dist, std_dist) = round(np.mean(cluster['avg_dist'].to_numpy())), round(np.std(cluster['avg_dist'].to_numpy()))\n",
        "\n",
        "  mean_min_angle = np.min(cluster['min_angle'].to_numpy())\n",
        "  mean_max_angle = np.max(cluster['max_angle'].to_numpy())\n",
        "  (mean_angle, std_angle) = round(np.mean(cluster['mean_angle'].to_numpy())), round(np.std(cluster['mean_angle'].to_numpy()))\n",
        "\n",
        "  angles_freq = create_frequency(np.abs(cluster['mean_angle'].to_numpy()))\n",
        "\n",
        "  sum_inters = cluster[['nr_inter', 'inter_3', 'inter_4', 'inter_5', 'inter_6', 'inter_7']].sum(axis=0)\n",
        "  labels = range(8)\n",
        "  weights = np.zeros(8)\n",
        "  weights[0] = 0.0\n",
        "  weights[1] = 0.0\n",
        "  weights[2] = 0.0\n",
        "  weights[3] = sum_inters['inter_3'] / sum_inters['nr_inter']\n",
        "  weights[4] = sum_inters['inter_4'] / sum_inters['nr_inter']\n",
        "  weights[5] = sum_inters['inter_5'] / sum_inters['nr_inter']\n",
        "  weights[6] = sum_inters['inter_6'] / sum_inters['nr_inter']\n",
        "  weights[7] = sum_inters['inter_7'] / sum_inters['nr_inter']\n",
        "\n",
        "  sum_occurences = cluster[['nr_dists', 'nr_angles', 'nr_inter', 'nr_ends']].sum(axis=0)\n",
        "\n",
        "  if std_dist <= 0.0:\n",
        "    std_dist = 1.0\n",
        "  \n",
        "  if std_angle <= 0.0:\n",
        "    std_angle = 1.0\n",
        "\n",
        "  if mean_min_dist == mean_max_dist:\n",
        "    mean_max_dist += 0.00001\n",
        "\n",
        "  if mean_min_angle == mean_max_angle:\n",
        "    mean_max_angle += 0.00001\n",
        "\n",
        "  angle_val = round(get_truncated_normal(mean_angle, std_angle, mean_min_angle, mean_max_angle).rvs()) * ((-1)**(random.randint(1, 2)))\n",
        "\n",
        "  res_dist = 'DIST_' + str(round(get_truncated_normal(mean_dist, std_dist, mean_min_dist, mean_max_dist).rvs()))\n",
        "  res_angle = 'ANGLE_' + str(angle_val)\n",
        "  res_inter = 'INTER_' + str(choices(labels, weights)[0])\n",
        "  res_end = 'END_' + str(True)\n",
        "\n",
        "  total_sum = 0\n",
        "  probabilities = []\n",
        "\n",
        "  #reduce number of ends so the generation wont stop that fast\n",
        "  sum_occurences['nr_ends'] = sum_occurences['nr_ends'] // 1000\n",
        "\n",
        "  #if we generated a straight road, we will generate either an angle, an intersection or a road end (gave a little more chance to intersections)\n",
        "  if last_element.startswith('DIST'):\n",
        "    total_sum = sum_occurences['nr_angles'] + round(1.5 * sum_occurences['nr_inter']) + sum_occurences['nr_ends']\n",
        "    probabilities = [0.0, (sum_occurences['nr_angles'] / total_sum), (round(1.5 * sum_occurences['nr_inter']) / total_sum), (sum_occurences['nr_ends'] / total_sum)]\n",
        "\n",
        "  #if we generated an angle, we will generated a straight road so the turn in road can be observed\n",
        "  elif last_element.startswith('ANGLE'):\n",
        "    probabilities = [1.0, 0.0, 0.0, 0.0]\n",
        "\n",
        "  #if we need a remake to prevent overlapping, with existing road, try a new angle\n",
        "  elif last_element.startswith('REMAKE'):\n",
        "    probabilities = [0.0, 1.0, 0.0, 0.0]\n",
        "\n",
        "  #if we generated an intersection, we will generate an angle so we can separate its branches\n",
        "  elif last_element.startswith('INTER'):\n",
        "    probabilities = [0.0, 1.0, 0.0, 0.0]\n",
        "    forced_angle = int(last_element.strip().split('_')[1])\n",
        "    res_angle = 'ANGLE_' + str(forced_angle)\n",
        "   \n",
        "  return ([res_dist, res_angle, res_inter, res_end], probabilities)\n"
      ],
      "execution_count": null,
      "outputs": []
    },
    {
      "cell_type": "code",
      "metadata": {
        "id": "LZvvTya-zejk"
      },
      "source": [
        "#based on the cluster and previous element, generate next element\n",
        "def generate_next_element(cluster, last_element):\n",
        "  results, weights = generate_samples_from_cluster(cluster, last_element)\n",
        "  return choices(results, weights)[0]"
      ],
      "execution_count": null,
      "outputs": []
    },
    {
      "cell_type": "code",
      "metadata": {
        "id": "MB8e89RwllBf"
      },
      "source": [
        "cluster = grouped.get_group(np.random.randint(NR_CLUSTERS))"
      ],
      "execution_count": null,
      "outputs": []
    },
    {
      "cell_type": "code",
      "metadata": {
        "id": "7XEkzs2PdtWY"
      },
      "source": [
        "#given a point, get the equivalent point at a given distance and given angle\n",
        "def apply_translation_to(position, angle, distance):\n",
        "  x = distance * math.cos(math.radians(angle))\n",
        "  y = distance * math.sin(math.radians(angle))\n",
        "  return (position[0] + x, position[1] + y)\n",
        "\n",
        "#rotate a position to left with a number of degrees\n",
        "def rotate_left(position, degree_angle):\n",
        "  (x, y) = position\n",
        "  adjustedX = (x * math.cos(math.radians(degree_angle))) - (y * math.sin(math.radians(degree_angle)))\n",
        "  adjustedY = (y * math.cos(math.radians(degree_angle))) + (x * math.sin(math.radians(degree_angle)))\n",
        "  return (round(adjustedX), round(adjustedY))\n",
        "\n",
        "#given a position, get the point at a certaing angle and distance\n",
        "def get_position_of(last_position, angle, distance, angle_adjustment=0):\n",
        "  rotated_left_position = rotate_left(last_position, 360 - angle_adjustment)\n",
        "  translated_location = apply_translation_to(rotated_left_position, angle, distance)\n",
        "  return rotate_left(translated_location, angle_adjustment)"
      ],
      "execution_count": null,
      "outputs": []
    },
    {
      "cell_type": "code",
      "metadata": {
        "id": "9VTWbJu79s-X"
      },
      "source": [
        "class RoadPatch():\n",
        "  def __init__(self, name=''):\n",
        "    self.name = name\n",
        "    self.edges = []\n",
        "    self.start_points = []\n",
        "    self.end_points_top = []\n",
        "    self.end_points_bottom = []\n",
        "    self.end_points_left = []\n",
        "    self.end_points_right = []\n",
        "  \n",
        "  def get_coded_edges(self):\n",
        "    coded_edges = []\n",
        "    for edge in self.edges:\n",
        "      coded_edges.append((encode_position(edge[0]), encode_position(edge[1])))\n",
        "    return coded_edges\n"
      ],
      "execution_count": null,
      "outputs": []
    },
    {
      "cell_type": "code",
      "metadata": {
        "id": "WeoO1ax2v150"
      },
      "source": [
        "Q_TOP_LEFT = 0\n",
        "Q_TOP = 1\n",
        "Q_TOP_RIGHT = 2\n",
        "Q_LEFT = 3\n",
        "Q_MIDDLE = 4\n",
        "Q_RIGHT = 5\n",
        "Q_BOTTOM_LEFT = 6\n",
        "Q_BOTTOM = 7\n",
        "Q_BOTTOM_RIGHT = 8\n",
        "\n",
        "PATCHES = []\n",
        "\n",
        "def get_quadrant_by_index(index):\n",
        "\n",
        "  if index == 0: return Q_TOP_LEFT\n",
        "  elif index == 1: return Q_TOP\n",
        "  elif index == 2: return Q_TOP_RIGHT\n",
        "  elif index == 3: return Q_LEFT\n",
        "  elif index == 4: return Q_MIDDLE\n",
        "  elif index == 5: return Q_RIGHT\n",
        "  elif index == 6: return Q_BOTTOM_LEFT\n",
        "  elif index == 7: return Q_BOTTOM\n",
        "  elif index == 8: return Q_BOTTOM_RIGHT\n",
        "\n",
        "def get_quadrant(position, dim=IMG_DIM):\n",
        "\n",
        "  (x, y) = position\n",
        "\n",
        "  if x < 0:\n",
        "    if y < 0: return Q_TOP_LEFT\n",
        "    if y >= dim: return Q_TOP_RIGHT\n",
        "    return Q_TOP\n",
        "\n",
        "  if x >= dim:\n",
        "    if y < 0: return Q_BOTTOM_LEFT\n",
        "    if y >= dim: return Q_BOTTOM_RIGHT\n",
        "    return Q_BOTTOM\n",
        "\n",
        "  if y < 0:\n",
        "    return Q_LEFT\n",
        "  \n",
        "  if y >= dim:\n",
        "    return Q_RIGHT\n",
        "\n",
        "  return Q_MIDDLE"
      ],
      "execution_count": null,
      "outputs": []
    },
    {
      "cell_type": "code",
      "metadata": {
        "id": "WZ0Bkg11hBQo"
      },
      "source": [
        "#generate road based on a cluster\n",
        "def generate_road_rec(patch, cluster, position, prev_position, angle_adjustment, next_element, steps, current_quadrant):\n",
        "\n",
        "  #condition to stop the recursion chain when a certain depth is reached\n",
        "  if steps > 20:\n",
        "    return\n",
        "\n",
        "  #condition to stop the recursion chain if we leave the working space we defined\n",
        "  if is_out_of_bounds(position, IMG_DIM):\n",
        "    \n",
        "    rr, cc = line(prev_position[0], prev_position[1], position[0], position[1])\n",
        "    new_quadrant = get_quadrant(position)\n",
        "    idx = -1\n",
        "\n",
        "    if new_quadrant in [Q_TOP_LEFT, Q_TOP, Q_TOP_RIGHT]:\n",
        "      idxx = ((rr == 0) & (cc >= 0) & (cc < IMG_DIM)).nonzero()[0]\n",
        "      if len(idxx) > 0:\n",
        "        idx = idxx[0]\n",
        "        patch.end_points_top.append((rr[idx], cc[idx]))\n",
        "    elif new_quadrant in [Q_BOTTOM_LEFT, Q_BOTTOM, Q_BOTTOM_RIGHT]:\n",
        "      idxx = ((rr == (IMG_DIM - 1)) & (cc >= 0) & (cc < IMG_DIM)).nonzero()[0]\n",
        "      if len(idxx) > 0:\n",
        "        idx = idxx[0]\n",
        "        patch.end_points_bottom.append((rr[idx], cc[idx]))\n",
        "    elif new_quadrant in [Q_LEFT]:\n",
        "      idxx = ((cc == 0) & (rr >= 0) & (rr < IMG_DIM)).nonzero()[0]\n",
        "      if len(idxx) > 0:\n",
        "        idx = idxx[0] \n",
        "        patch.end_points_left.append((rr[idx], cc[idx]))\n",
        "    elif new_quadrant in [Q_RIGHT]:\n",
        "      idxx = ((cc == (IMG_DIM - 1)) & (rr >= 0) & (rr < IMG_DIM)).nonzero()[0]\n",
        "      if len(idxx) > 0:\n",
        "        idx = idxx[0]\n",
        "        patch.end_points_right.append((rr[idx], cc[idx]))\n",
        "   \n",
        "    if idx != -1:\n",
        "      position = (rr[idx], cc[idx])\n",
        "      patch.edges.append((prev_position, position))\n",
        "    return\n",
        "\n",
        "  #print(next_element, steps)\n",
        "\n",
        "  #print the graph edges to the file\n",
        "  if encode_position(prev_position) != encode_position(position):\n",
        "    patch.edges.append((prev_position, position))\n",
        "\n",
        "  #if we generated a road end, we stop generating further from this point\n",
        "  if next_element.startswith('END') == True:\n",
        "    return\n",
        "\n",
        "  #if we generate a direct road\n",
        "  elif next_element.startswith('DIST') == True:\n",
        "    #get its length\n",
        "    dist = int(next_element.strip().split('_')[1])\n",
        "    #determine the coordinates of the next point\n",
        "    next_pos = get_position_of(position, 0, dist, angle_adjustment)\n",
        "    #prevent self intersections, in case of self intersection, retry at a different angle\n",
        "    if intersects_any((position, next_pos), patch.edges) == False:\n",
        "      generate_road_rec(patch, cluster, next_pos, position, angle_adjustment, generate_next_element(cluster, 'DIST'), steps + 1, current_quadrant)\n",
        "    else:\n",
        "      #print('Overlapping: ' + str(next_pos) + ' from ' + str(position))\n",
        "      generate_road_rec(patch, cluster, position, prev_position, angle_adjustment, generate_next_element(cluster, 'REMAKE'), steps, current_quadrant)\n",
        "\n",
        "  #if we generate a new angle\n",
        "  elif next_element.startswith('ANGLE') == True:\n",
        "    #get the degrees\n",
        "    angle = (int(next_element.strip().split('_')[1]))\n",
        "    #determine the coordinates of the next point\n",
        "    next_pos = get_position_of(position, angle, 0, angle_adjustment)\n",
        "    generate_road_rec(patch, cluster, next_pos, position, angle_adjustment + angle, generate_next_element(cluster, 'ANGLE'), steps + 1, current_quadrant)\n",
        "\n",
        "  #if we generate an intersection\n",
        "  elif next_element.startswith('INTER') == True:\n",
        "    #we want the angle between two consecutive of its branches to be at least 50 degrees, to look realistic\n",
        "    MIN_INTER_ANGLE = 45\n",
        "    inter_num = int(next_element.strip().split('_')[1])\n",
        "    prev_angle = -180\n",
        "    angle_sum = 0\n",
        "    #for each branch, generate a new road\n",
        "    for i in range(inter_num - 1):\n",
        "      remaining = (360 - angle_sum - ((inter_num - i) * MIN_INTER_ANGLE))\n",
        "      if (MIN_INTER_ANGLE > remaining):\n",
        "        print(\"Problem with intersections\", remaining, inter_num, angle_sum)\n",
        "      gen_angle = random.randint(MIN_INTER_ANGLE, remaining)\n",
        "      forced_angle = prev_angle + gen_angle\n",
        "      angle_sum += gen_angle\n",
        "      prev_angle = forced_angle\n",
        "      #print(steps, ': ', inter_num, ' -> ', forced_angle)\n",
        "      generate_road_rec(patch, cluster, get_position_of(position, 0, 0, angle_adjustment), position, angle_adjustment, generate_next_element(cluster, 'INTER_' + str(forced_angle)), steps + 1, current_quadrant)\n",
        "      "
      ],
      "execution_count": null,
      "outputs": []
    },
    {
      "cell_type": "code",
      "metadata": {
        "id": "SWabSAlQvHPK"
      },
      "source": [
        "TO_LEFT = 0\n",
        "TO_TOP = 1\n",
        "TO_RIGHT = 2\n",
        "TO_BOTTOM = 3\n",
        "\n",
        "def move_points_between_patches(points, dir, angle):\n",
        "\n",
        "  new_start_points = []\n",
        "\n",
        "  if dir == TO_LEFT:\n",
        "    for (x, y) in points:\n",
        "      new_start_points.append(((x, IMG_DIM-1), angle))\n",
        "\n",
        "  elif dir == TO_TOP:\n",
        "    for (x, y) in points:\n",
        "      new_start_points.append(((IMG_DIM-1, y), angle))\n",
        "\n",
        "  elif dir == TO_RIGHT:\n",
        "    for (x, y) in points:\n",
        "      new_start_points.append(((x, 0), angle))\n",
        "\n",
        "  elif dir == TO_BOTTOM:\n",
        "    for (x, y) in points:\n",
        "      new_start_points.append(((0, y), angle))\n",
        "\n",
        "  return new_start_points\n",
        "\n",
        "def propagate_patches():\n",
        "\n",
        "  for i in range(9):\n",
        "    if i == Q_TOP_LEFT:\n",
        "      PATCHES[Q_TOP].start_points = PATCHES[Q_TOP].start_points + move_points_between_patches(PATCHES[i].end_points_right, TO_RIGHT, 90)\n",
        "      PATCHES[Q_LEFT].start_points = PATCHES[Q_LEFT].start_points + move_points_between_patches(PATCHES[i].end_points_bottom, TO_BOTTOM, 0)\n",
        " \n",
        "    elif i == Q_TOP:\n",
        "      PATCHES[Q_TOP_LEFT].start_points = PATCHES[Q_TOP_LEFT].start_points + move_points_between_patches(PATCHES[i].end_points_left, TO_LEFT, -90)\n",
        "      PATCHES[Q_TOP_RIGHT].start_points = PATCHES[Q_TOP_RIGHT].start_points + move_points_between_patches(PATCHES[i].end_points_right, TO_RIGHT, 90)\n",
        "      PATCHES[Q_MIDDLE].start_points = PATCHES[Q_MIDDLE].start_points + move_points_between_patches(PATCHES[i].end_points_bottom, TO_BOTTOM, 0)\n",
        " \n",
        "    elif i == Q_TOP_RIGHT:\n",
        "      PATCHES[Q_TOP].start_points = PATCHES[Q_TOP].start_points + move_points_between_patches(PATCHES[i].end_points_left, TO_LEFT, -90)\n",
        "      PATCHES[Q_RIGHT].start_points = PATCHES[Q_RIGHT].start_points + move_points_between_patches(PATCHES[i].end_points_bottom, TO_BOTTOM, 0)\n",
        " \n",
        "    elif i == Q_LEFT:\n",
        "      PATCHES[Q_TOP_LEFT].start_points = PATCHES[Q_TOP_LEFT].start_points + move_points_between_patches(PATCHES[i].end_points_top, TO_TOP, 180)\n",
        "      PATCHES[Q_MIDDLE].start_points = PATCHES[Q_MIDDLE].start_points + move_points_between_patches(PATCHES[i].end_points_right, TO_RIGHT, 90)\n",
        "      PATCHES[Q_BOTTOM_LEFT].start_points = PATCHES[Q_BOTTOM_LEFT].start_points + move_points_between_patches(PATCHES[i].end_points_bottom, TO_BOTTOM, 0)\n",
        " \n",
        "    elif i == Q_MIDDLE:\n",
        "      PATCHES[Q_TOP].start_points = PATCHES[Q_TOP].start_points + move_points_between_patches(PATCHES[i].end_points_top, TO_TOP, 180)\n",
        "      PATCHES[Q_LEFT].start_points = PATCHES[Q_LEFT].start_points + move_points_between_patches(PATCHES[i].end_points_left, TO_LEFT, -90)\n",
        "      PATCHES[Q_RIGHT].start_points = PATCHES[Q_RIGHT].start_points + move_points_between_patches(PATCHES[i].end_points_right, TO_RIGHT, 90)\n",
        "      PATCHES[Q_BOTTOM].start_points = PATCHES[Q_BOTTOM].start_points + move_points_between_patches(PATCHES[i].end_points_bottom, TO_BOTTOM, 0)\n",
        " \n",
        "    elif i == Q_RIGHT:\n",
        "      PATCHES[Q_TOP_RIGHT].start_points = PATCHES[Q_TOP_RIGHT].start_points + move_points_between_patches(PATCHES[i].end_points_top, TO_TOP, 180)\n",
        "      PATCHES[Q_MIDDLE].start_points = PATCHES[Q_MIDDLE].start_points + move_points_between_patches(PATCHES[i].end_points_left, TO_LEFT, -90)\n",
        "      PATCHES[Q_BOTTOM_RIGHT].start_points = PATCHES[Q_BOTTOM_RIGHT].start_points + move_points_between_patches(PATCHES[i].end_points_bottom, TO_BOTTOM, 0)\n",
        "\n",
        "    elif i == Q_BOTTOM_LEFT:\n",
        "      PATCHES[Q_LEFT].start_points = PATCHES[Q_LEFT].start_points + move_points_between_patches(PATCHES[i].end_points_top, TO_TOP, 180)\n",
        "      PATCHES[Q_BOTTOM].start_points = PATCHES[Q_BOTTOM].start_points + move_points_between_patches(PATCHES[i].end_points_right, TO_RIGHT, 90)\n",
        "\n",
        "    elif i == Q_BOTTOM:\n",
        "      PATCHES[Q_MIDDLE].start_points = PATCHES[Q_MIDDLE].start_points + move_points_between_patches(PATCHES[i].end_points_top, TO_TOP, 180)\n",
        "      PATCHES[Q_BOTTOM_LEFT].start_points = PATCHES[Q_BOTTOM_LEFT].start_points + move_points_between_patches(PATCHES[i].end_points_left, TO_LEFT, -90)\n",
        "      PATCHES[Q_BOTTOM_RIGHT].start_points = PATCHES[Q_BOTTOM_RIGHT].start_points + move_points_between_patches(PATCHES[i].end_points_right, TO_RIGHT, 90)\n",
        "\n",
        "    elif i == Q_BOTTOM_RIGHT:\n",
        "      PATCHES[Q_RIGHT].start_points = PATCHES[Q_RIGHT].start_points + move_points_between_patches(PATCHES[i].end_points_top, TO_TOP, 180)\n",
        "      PATCHES[Q_BOTTOM].start_points = PATCHES[Q_BOTTOM].start_points + move_points_between_patches(PATCHES[i].end_points_left, TO_LEFT, -90)      \n",
        "\n",
        "    PATCHES[i].end_points_bottom = []\n",
        "    PATCHES[i].end_points_top = []\n",
        "    PATCHES[i].end_points_left = []\n",
        "    PATCHES[i].end_points_right = []    "
      ],
      "execution_count": null,
      "outputs": []
    },
    {
      "cell_type": "code",
      "metadata": {
        "id": "NGCt5WeukrVv"
      },
      "source": [
        "def shift_patches(dir):\n",
        "\n",
        "  if dir == TO_LEFT:\n",
        "    PATCHES[Q_TOP_LEFT] = PATCHES[Q_TOP]\n",
        "    PATCHES[Q_TOP] = PATCHES[Q_TOP_RIGHT]\n",
        "    PATCHES[Q_TOP_RIGHT] = RoadPatch()\n",
        "    PATCHES[Q_LEFT] = PATCHES[Q_MIDDLE]\n",
        "    PATCHES[Q_MIDDLE] = PATCHES[Q_RIGHT]\n",
        "    PATCHES[Q_RIGHT] = RoadPatch()\n",
        "    PATCHES[Q_BOTTOM_LEFT] = PATCHES[Q_BOTTOM]\n",
        "    PATCHES[Q_BOTTOM] = PATCHES[Q_BOTTOM_RIGHT]\n",
        "    PATCHES[Q_BOTTOM_RIGHT] = RoadPatch()\n",
        "\n",
        "  elif dir == TO_TOP:\n",
        "    PATCHES[Q_TOP_LEFT] = PATCHES[Q_LEFT]\n",
        "    PATCHES[Q_LEFT] = PATCHES[Q_BOTTOM_LEFT]\n",
        "    PATCHES[Q_BOTTOM_LEFT] = RoadPatch()\n",
        "    PATCHES[Q_TOP] = PATCHES[Q_MIDDLE]\n",
        "    PATCHES[Q_MIDDLE] = PATCHES[Q_BOTTOM]\n",
        "    PATCHES[Q_BOTTOM] = RoadPatch()\n",
        "    PATCHES[Q_TOP_RIGHT] = PATCHES[Q_RIGHT]\n",
        "    PATCHES[Q_RIGHT] = PATCHES[Q_BOTTOM_RIGHT]\n",
        "    PATCHES[Q_BOTTOM_RIGHT] = RoadPatch()\n",
        "\n",
        "  elif dir == TO_RIGHT:\n",
        "    PATCHES[Q_TOP_RIGHT] = PATCHES[Q_TOP]\n",
        "    PATCHES[Q_TOP] = PATCHES[Q_TOP_LEFT]\n",
        "    PATCHES[Q_TOP_LEFT] = RoadPatch()\n",
        "    PATCHES[Q_RIGHT] = PATCHES[Q_MIDDLE]\n",
        "    PATCHES[Q_MIDDLE] = PATCHES[Q_LEFT]\n",
        "    PATCHES[Q_LEFT] = RoadPatch()\n",
        "    PATCHES[Q_BOTTOM_RIGHT] = PATCHES[Q_BOTTOM]\n",
        "    PATCHES[Q_BOTTOM] = PATCHES[Q_BOTTOM_LEFT]\n",
        "    PATCHES[Q_BOTTOM_LEFT] = RoadPatch()\n",
        "\n",
        "  elif dir == TO_BOTTOM:\n",
        "    PATCHES[Q_BOTTOM_LEFT] = PATCHES[Q_LEFT]\n",
        "    PATCHES[Q_LEFT] = PATCHES[Q_TOP_LEFT]\n",
        "    PATCHES[Q_TOP_LEFT] = RoadPatch()\n",
        "    PATCHES[Q_BOTTOM] = PATCHES[Q_MIDDLE]\n",
        "    PATCHES[Q_MIDDLE] = PATCHES[Q_TOP]\n",
        "    PATCHES[Q_TOP] = RoadPatch()\n",
        "    PATCHES[Q_BOTTOM_RIGHT] = PATCHES[Q_RIGHT]\n",
        "    PATCHES[Q_RIGHT] = PATCHES[Q_TOP_RIGHT]\n",
        "    PATCHES[Q_TOP_RIGHT] = RoadPatch()"
      ],
      "execution_count": null,
      "outputs": []
    },
    {
      "cell_type": "code",
      "metadata": {
        "id": "TkdQ3miubrzE"
      },
      "source": [
        "from multiprocessing import Process, Manager\n",
        "import copy\n",
        "def run_for_patch(aux_patches, patch, cluster, idx, next_elem):\n",
        "\n",
        "  if len(patch.edges) > 0:\n",
        "    return \n",
        "\n",
        "  for start_point, angle_adj in patch.start_points:\n",
        "    generate_road_rec(patch, cluster, start_point, start_point, angle_adj, next_elem, 0, idx)\n",
        "\n",
        "  aux_patches[idx] = copy.deepcopy(patch) \n",
        "\n",
        "#generate road\n",
        "def generate_road():\n",
        "\n",
        "  global PATCHES\n",
        "\n",
        "  #select a cluster\n",
        "  cluster = grouped.get_group(np.random.randint(NR_CLUSTERS))\n",
        "  results, _ = generate_samples_from_cluster(cluster, 'ANGLE')\n",
        "\n",
        "  \n",
        "  with Manager() as manager:\n",
        "    procs = []\n",
        "    aux_patches = manager.list(range(9))\n",
        "    for i in range(9):\n",
        "      #run_for_patch(PATCHES[i], cluster, i, results[0])\n",
        "      procs.append(Process(target=run_for_patch, args=(aux_patches, copy.deepcopy(PATCHES[i]), cluster, i, results[0])))\n",
        "      procs[-1].start()\n",
        "    \n",
        "    for p in procs:\n",
        "      p.join()\n",
        "    \n",
        "    PATCHES = copy.deepcopy(aux_patches)\n"
      ],
      "execution_count": null,
      "outputs": []
    },
    {
      "cell_type": "code",
      "metadata": {
        "id": "dhCp0QOOl013",
        "colab": {
          "base_uri": "https://localhost:8080/"
        },
        "outputId": "8a075e41-b544-4b6d-8405-27254ff4e50d"
      },
      "source": [
        "import time\n",
        "global PATCHES\n",
        "PATCHES = [RoadPatch('PATCH' + str(i)) for i in range(9)]\n",
        "#choose a starting points\n",
        "for i in range(9):\n",
        "  PATCHES[i].start_points = [((255, 255), -135), ((255, 255), 135), ((255, 255), 0)]\n",
        "\n",
        "start_time = time.time()\n",
        "generate_road()\n",
        "end_time = time.time()\n",
        "print(end_time - start_time)"
      ],
      "execution_count": null,
      "outputs": [
        {
          "output_type": "stream",
          "text": [
            "23.10753083229065\n"
          ],
          "name": "stdout"
        }
      ]
    },
    {
      "cell_type": "code",
      "metadata": {
        "colab": {
          "base_uri": "https://localhost:8080/",
          "height": 1000
        },
        "id": "KwlIhjWBWEuv",
        "outputId": "39facd0e-09e4-4acf-bb48-7bf126711bce"
      },
      "source": [
        "#graph = read_graphs(\"/content/generated_graphs\")[0]\n",
        "results = []\n",
        "for i in range(9):\n",
        "  results.append(create_image_from_graph(PATCHES[i].get_coded_edges()))\n",
        "\n",
        "#cv2_imshow(results[Q_MIDDLE])\n",
        "display_image_compare(results[0], results[1], results[2])\n",
        "display_image_compare(results[3], results[4], results[5])\n",
        "display_image_compare(results[6], results[7], results[8]) "
      ],
      "execution_count": null,
      "outputs": [
        {
          "output_type": "display_data",
          "data": {
            "image/png": "[encoded data removed]",
            "text/plain": [
              "<PIL.Image.Image image mode=L size=1539x513 at 0x7FA7957C4F10>"
            ]
          },
          "metadata": {
            "tags": []
          }
        },
        {
          "output_type": "display_data",
          "data": {
            "image/png": "[encoded data removed]",
            "text/plain": [
              "<PIL.Image.Image image mode=L size=1539x513 at 0x7FA788E82BD0>"
            ]
          },
          "metadata": {
            "tags": []
          }
        },
        {
          "output_type": "display_data",
          "data": {
            "image/png": "[encoded data removed]",
            "text/plain": [
              "<PIL.Image.Image image mode=L size=1539x513 at 0x7FA7957C4DD0>"
            ]
          },
          "metadata": {
            "tags": []
          }
        }
      ]
    },
    {
      "cell_type": "code",
      "metadata": {
        "colab": {
          "base_uri": "https://localhost:8080/",
          "height": 1000
        },
        "id": "lj5MLeMOhQaH",
        "outputId": "0abcbe91-1b0f-4e91-baae-68b5240dc8d4"
      },
      "source": [
        "global PATCHES\n",
        "PATCHES = [RoadPatch('PATCH' + str(i)) for i in range(9)]\n",
        "#choose a starting points\n",
        "PATCHES[Q_MIDDLE].start_points = [((255, 255), -135), ((255, 255), 135), ((255, 255), 0)]\n",
        "\n",
        "generate_road()\n",
        "propagate_patches()\n",
        "generate_road()\n",
        "propagate_patches()\n",
        "generate_road()\n",
        "\n",
        "\n",
        "#graph = read_graphs(\"/content/generated_graphs\")[0]\n",
        "results = []\n",
        "for i in range(9):\n",
        "  results.append(create_image_from_graph(PATCHES[i].get_coded_edges()))\n",
        "\n",
        "#cv2_imshow(results[Q_MIDDLE])\n",
        "display_image_compare(results[0], results[1], results[2])\n",
        "display_image_compare(results[3], results[4], results[5])\n",
        "display_image_compare(results[6], results[7], results[8])  "
      ],
      "execution_count": null,
      "outputs": [
        {
          "output_type": "display_data",
          "data": {
            "image/png": "[encoded data removed]",
            "text/plain": [
              "<PIL.Image.Image image mode=L size=1539x513 at 0x7FC8970A4D10>"
            ]
          },
          "metadata": {
            "tags": []
          }
        },
        {
          "output_type": "display_data",
          "data": {
            "image/png": "[encoded data removed]",
            "text/plain": [
              "<PIL.Image.Image image mode=L size=1539x513 at 0x7FC8A3BECC90>"
            ]
          },
          "metadata": {
            "tags": []
          }
        },
        {
          "output_type": "display_data",
          "data": {
            "image/png": "[encoded data removed]",
            "text/plain": [
              "<PIL.Image.Image image mode=L size=1539x513 at 0x7FC897030DD0>"
            ]
          },
          "metadata": {
            "tags": []
          }
        }
      ]
    },
    {
      "cell_type": "code",
      "metadata": {
        "colab": {
          "base_uri": "https://localhost:8080/",
          "height": 36
        },
        "id": "3wRkVds6OWun",
        "outputId": "b6be84cb-0d7e-4abd-d1ef-052b69342f77"
      },
      "source": [
        "PATCHES[Q_MIDDLE].name"
      ],
      "execution_count": null,
      "outputs": [
        {
          "output_type": "execute_result",
          "data": {
            "application/vnd.google.colaboratory.intrinsic+json": {
              "type": "string"
            },
            "text/plain": [
              "'PATCH4'"
            ]
          },
          "metadata": {
            "tags": []
          },
          "execution_count": 37
        }
      ]
    },
    {
      "cell_type": "code",
      "metadata": {
        "id": "0oMLdhAvorj6"
      },
      "source": [
        "shift_patches(TO_BOTTOM)"
      ],
      "execution_count": null,
      "outputs": []
    },
    {
      "cell_type": "code",
      "metadata": {
        "id": "k3wD_JJ7PAi1"
      },
      "source": [
        "propagate_patches()\n",
        "generate_road()"
      ],
      "execution_count": null,
      "outputs": []
    },
    {
      "cell_type": "code",
      "metadata": {
        "colab": {
          "base_uri": "https://localhost:8080/",
          "height": 1000
        },
        "id": "NleBbWeIi144",
        "outputId": "49a6cc70-0ac6-429f-ced2-c8b1a29303e3"
      },
      "source": [
        "results = []\n",
        "for i in range(9):\n",
        "  results.append(create_image_from_graph(PATCHES[i].get_coded_edges()))\n",
        "\n",
        "#cv2_imshow(results[Q_MIDDLE])\n",
        "display_image_compare(results[0], results[1], results[2])\n",
        "display_image_compare(results[3], results[4], results[5])\n",
        "display_image_compare(results[6], results[7], results[8])  "
      ],
      "execution_count": null,
      "outputs": [
        {
          "output_type": "display_data",
          "data": {
            "image/png": "[encoded data removed]",
            "text/plain": [
              "<PIL.Image.Image image mode=L size=1539x513 at 0x7FC897113E90>"
            ]
          },
          "metadata": {
            "tags": []
          }
        },
        {
          "output_type": "display_data",
          "data": {
            "image/png": "[encoded data removed]",
            "text/plain": [
              "<PIL.Image.Image image mode=L size=1539x513 at 0x7FC8970A4DD0>"
            ]
          },
          "metadata": {
            "tags": []
          }
        },
        {
          "output_type": "display_data",
          "data": {
            "image/png": "[encoded data removed]",
            "text/plain": [
              "<PIL.Image.Image image mode=L size=1539x513 at 0x7FC8970A4B90>"
            ]
          },
          "metadata": {
            "tags": []
          }
        }
      ]
    }
  ]
}